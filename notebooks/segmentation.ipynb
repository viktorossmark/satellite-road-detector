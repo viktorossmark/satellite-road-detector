{
 "cells": [
  {
   "cell_type": "code",
   "execution_count": 1,
   "metadata": {
    "colab": {
     "base_uri": "https://localhost:8080/"
    },
    "id": "e8V0Xmc-89Bn",
    "outputId": "35c1cb0e-3b6a-40b7-bc6a-ff29830666ef"
   },
   "outputs": [
    {
     "output_type": "stream",
     "name": "stdout",
     "text": [
      "-----------------------------------------\nkeras-unet init: TF version is >= 2.0.0 - using `tf.keras` instead of `Keras`\n-----------------------------------------\n"
     ]
    }
   ],
   "source": [
    "import pandas as pd\n",
    "import numpy as np\n",
    "import os\n",
    "import sys\n",
    "import cv2\n",
    "import random\n",
    "import matplotlib.pyplot as plt\n",
    "from keras_unet.models import satellite_unet\n",
    "from keras_unet.models import vanilla_unet\n",
    "from keras_unet.models import custom_unet\n",
    "from keras.optimizers import Adam, SGD\n",
    "from keras_unet.metrics import iou, dice_coef\n",
    "from keras_unet.losses import jaccard_distance\n",
    "from keras.callbacks import ModelCheckpoint\n",
    "from keras_unet.utils import plot_imgs\n",
    "\n",
    "from keras.models import *\n",
    "from keras.layers import *\n",
    "from keras.optimizers import *\n",
    "from keras.callbacks import ModelCheckpoint\n",
    "from keras.callbacks import EarlyStopping\n",
    "from keras.callbacks import LearningRateScheduler\n",
    "from keras import backend as keras\n",
    "from keras.preprocessing.image import ImageDataGenerator\n",
    "import tensorflow as tf\n",
    "import math\n",
    "from keras.callbacks import CSVLogger"
   ]
  },
  {
   "cell_type": "code",
   "execution_count": 7,
   "metadata": {},
   "outputs": [
    {
     "name": "stdout",
     "output_type": "stream",
     "text": [
      "Found GPU at: /device:GPU:0\n"
     ]
    }
   ],
   "source": [
    "#check if gpu enabled, also make sure you have gpu version of tf. \n",
    "device_name = tf.test.gpu_device_name()\n",
    "if device_name != '/device:GPU:0':\n",
    "  raise SystemError('GPU device not found')\n",
    "print('Found GPU at: {}'.format(device_name))"
   ]
  },
  {
   "source": [
    "## Create test data by moving a subset (10%) to seperate folder\n",
    "In this implementation we do a 72-18-10 split"
   ],
   "cell_type": "markdown",
   "metadata": {}
  },
  {
   "cell_type": "code",
   "execution_count": 4,
   "metadata": {
    "id": "AMApknR3ZQUY"
   },
   "outputs": [],
   "source": [
    "import shutil\n",
    "img_dir = '/path/to/images'\n",
    "mask_dir = '/path/to/masks'\n",
    "test_mask = '/new/path/to/test/masks'\n",
    "test_img = '/new/path/to/test/images'\n",
    "\n",
    "img_files = os.listdir(img_dir)\n",
    "mask_files = os.listdir(mask_dir)\n",
    "test_size = len(img_files)//10\n",
    "\n",
    "img_files.sort()\n",
    "mask_files.sort()\n",
    "\n",
    "c = list(zip(img_files, mask_files))\n",
    "random.shuffle(c)\n",
    "\n",
    "img_files, mask_files = zip(*c)\n",
    "\n",
    "for i in range(test_size):\n",
    "    shutil.move(os.path.join(img_dir,img_files[i]),os.path.join(test_img,img_files[i]))\n",
    "    shutil.move(os.path.join(mask_dir,mask_files[i]),os.path.join(test_mask,mask_files[i]))"
   ]
  },
  {
   "cell_type": "markdown",
   "metadata": {
    "id": "xVynZW_dZQt_"
   },
   "source": [
    "## Data generator with augmentation\n",
    "Ajust batch size according to your RAM resources. Note the folder structure below in order for the flow_from_directory to work."
   ]
  },
  {
   "cell_type": "code",
   "execution_count": 8,
   "metadata": {
    "colab": {
     "base_uri": "https://localhost:8080/"
    },
    "id": "-nuFA7uyZU9v",
    "outputId": "b04c8353-3d30-40ed-a32b-5624a14d93bf"
   },
   "outputs": [
    {
     "name": "stdout",
     "output_type": "stream",
     "text": [
      "Found 661 images belonging to 1 classes.\n",
      "Found 661 images belonging to 1 classes.\n",
      "Found 165 images belonging to 1 classes.\n",
      "Found 165 images belonging to 1 classes.\n",
      "Found 92 images belonging to 1 classes.\n",
      "Found 92 images belonging to 1 classes.\n"
     ]
    }
   ],
   "source": [
    "train_datagen = ImageDataGenerator(rescale=1./255,\n",
    "                                   validation_split=0.2,\n",
    "                                   horizontal_flip = True,\n",
    "                                   vertical_flip = True,\n",
    "                                   rotation_range=5,\n",
    "                                   width_shift_range=0.2,\n",
    "                                   height_shift_range=0.2,\n",
    "                                   zoom_range=0.2,\n",
    "                                   brightness_range=[0.6,1])\n",
    "val_datagen = ImageDataGenerator(rescale=1./255,\n",
    "                                 validation_split=0.2)\n",
    "test_datagen = ImageDataGenerator(rescale=1./255)\n",
    "\n",
    "\"\"\"\n",
    "---Folder structure----\n",
    "\n",
    "-train:\n",
    "        -PS-RGB #images\n",
    "        -train_mask_bin #masks\n",
    "-test:\n",
    "        -PS-RGB #test-images\n",
    "        -train_mask_bin #test-masks\n",
    "\"\"\"\n",
    "\n",
    "data_path = '/path/to/train/'\n",
    "test_path = '/path/to/test/'\n",
    "\n",
    "seed1 = 1\n",
    "seed2 = 2\n",
    "training_generator = train_datagen.flow_from_directory(\n",
    "        data_path,\n",
    "        target_size=(512, 512),\n",
    "        color_mode='rgb',\n",
    "        batch_size=4,\n",
    "        class_mode=None,\n",
    "        classes = ['PS-RGB'],\n",
    "        shuffle=True,\n",
    "        subset = 'training',\n",
    "        seed = seed1)\n",
    "\n",
    "train_mask_generator = train_datagen.flow_from_directory(\n",
    "        data_path,\n",
    "        target_size=(512, 512),\n",
    "        color_mode='grayscale',\n",
    "        batch_size=4,\n",
    "        class_mode=None,\n",
    "        classes = ['train_mask_bin'],\n",
    "        shuffle=True,\n",
    "        subset= 'training',\n",
    "        seed = seed1)\n",
    "\n",
    "validation_generator = val_datagen.flow_from_directory(\n",
    "        data_path,\n",
    "        target_size=(512, 512),\n",
    "        color_mode='rgb',\n",
    "        batch_size=4,\n",
    "        class_mode=None,\n",
    "        classes = ['PS-RGB'],\n",
    "        shuffle=True,\n",
    "        subset = 'validation',\n",
    "        seed = seed2)\n",
    "\n",
    "val_mask_generator = val_datagen.flow_from_directory(\n",
    "        data_path,\n",
    "        target_size=(512, 512),\n",
    "        color_mode='grayscale',\n",
    "        batch_size=4,\n",
    "        class_mode=None,\n",
    "        classes = ['train_mask_bin'],\n",
    "        shuffle=True,\n",
    "        subset = 'validation',\n",
    "        seed = seed2)\n",
    "\n",
    "test_generator = test_datagen.flow_from_directory(\n",
    "        test_path,\n",
    "        target_size=(512, 512),\n",
    "        color_mode='rgb',\n",
    "        batch_size=4,\n",
    "        class_mode=None,\n",
    "        classes = ['PS-RGB'],\n",
    "        shuffle=False)\n",
    "\n",
    "test_mask_generator = test_datagen.flow_from_directory(\n",
    "        test_path,\n",
    "        target_size=(512, 512),\n",
    "        color_mode='grayscale',\n",
    "        batch_size=4,\n",
    "        class_mode=None,\n",
    "        classes = ['train_mask_bin'],\n",
    "        shuffle=False)\n",
    "\n",
    "train_generator = zip(training_generator, train_mask_generator)\n",
    "val_generator = zip(validation_generator, val_mask_generator)\n",
    "test_gen = zip(test_generator, test_mask_generator)"
   ]
  },
  {
   "cell_type": "code",
   "execution_count": 6,
   "metadata": {},
   "outputs": [
    {
     "name": "stdout",
     "output_type": "stream",
     "text": [
      "0\n"
     ]
    }
   ],
   "source": [
    "#Make sure this is zero, so validation and train not have been mixed\n",
    "print(len(set(test_mask_generator.filenames) & set(val_mask_generator.filenames)))"
   ]
  },
  {
   "cell_type": "markdown",
   "metadata": {},
   "source": [
    "## Some custom metrics"
   ]
  },
  {
   "cell_type": "code",
   "execution_count": 6,
   "metadata": {},
   "outputs": [],
   "source": [
    "from keras_unet import TF\n",
    "if TF:\n",
    "    from tensorflow.keras import backend as K\n",
    "else:    \n",
    "    from keras import backend as K\n",
    "\n",
    "def threshold_binarize(x, threshold=0.3):\n",
    "    ge = tf.greater_equal(x, tf.constant(threshold))\n",
    "    y = tf.where(ge, x=tf.ones_like(x), y=tf.zeros_like(x))\n",
    "    return y\n",
    "\n",
    "def iou_thresholded(y_true, y_pred, threshold=0.3, smooth=1.):\n",
    "    y_pred = threshold_binarize(y_pred, threshold)\n",
    "    y_true_f = K.flatten(y_true)\n",
    "    y_pred_f = K.flatten(y_pred)\n",
    "    intersection = K.sum(y_true_f * y_pred_f)\n",
    "    return (intersection + smooth) / (K.sum(y_true_f) + K.sum(y_pred_f) - intersection + smooth)\n"
   ]
  },
  {
   "cell_type": "markdown",
   "metadata": {},
   "source": [
    "## U-net with ResNet-blocks"
   ]
  },
  {
   "cell_type": "code",
   "execution_count": 2,
   "metadata": {
    "id": "tf31Nv3mPTjD"
   },
   "outputs": [],
   "source": [
    "from keras.backend import int_shape\n",
    "from keras.models import Model\n",
    "from keras.layers import Conv2D, Conv3D, MaxPooling2D, MaxPooling3D, UpSampling2D, UpSampling3D, Add, BatchNormalization, Input, Activation, Lambda, Concatenate\n",
    "\n",
    "#res_unet function directly taken from https://github.com/Nishanksingla/UNet-with-ResBlock/blob/master/resnet34_unet_model.py\n",
    "\n",
    "def res_unet(filter_root, depth, n_class=1, input_size=(256, 256, 1), activation='relu', batch_norm=True, final_activation='sigmoid'):\n",
    "    \"\"\"\n",
    "    Build Reduced UNet model with ResBlock\n",
    "    Args:\n",
    "        filter_root (int): Number of filters to start with in first convolution.\n",
    "        depth (int): How deep to go in UNet i.e. how many down and up sampling you want to do in the model. \n",
    "                    Filter root and image size should be multiple of 2^depth.\n",
    "        n_class (int, optional): How many classes in the output layer. Defaults to 2.\n",
    "        input_size (tuple, optional): Input image size. Defaults to (256, 256, 1).\n",
    "        activation (str, optional): activation to use in each convolution. Defaults to 'relu'.\n",
    "        batch_norm (bool, optional): To use Batch normaliztion or not. Defaults to True.\n",
    "        final_activation (str, optional): activation for output layer. Defaults to 'softmax'.\n",
    "    Returns:\n",
    "        obj: keras model object\n",
    "    \"\"\"\n",
    "    inputs = Input(input_size)\n",
    "    x = inputs\n",
    "    # Dictionary for long connections\n",
    "    long_connection_store = {}\n",
    "\n",
    "    if len(input_size) == 3:\n",
    "        Conv = Conv2D\n",
    "        MaxPooling = MaxPooling2D\n",
    "        UpSampling = UpSampling2D\n",
    "    elif len(input_size) == 4:\n",
    "        Conv = Conv3D\n",
    "        MaxPooling = MaxPooling3D\n",
    "        UpSampling = UpSampling3D\n",
    "\n",
    "    # Down sampling\n",
    "    for i in range(depth):\n",
    "        out_channel = 2**i * filter_root\n",
    "        #out_channel = filter_root\n",
    "        # Residual/Skip connection\n",
    "        res = Conv(out_channel, kernel_size=1, padding='same', use_bias=False, name=\"Identity{}_1\".format(i))(x)\n",
    "\n",
    "        # First Conv Block with Conv, BN and activation\n",
    "        conv1 = Conv(out_channel, kernel_size=3, padding='same', name=\"Conv{}_1\".format(i))(x)\n",
    "        if batch_norm:\n",
    "            conv1 = BatchNormalization(name=\"BN{}_1\".format(i))(conv1)\n",
    "        act1 = Activation(activation, name=\"Act{}_1\".format(i))(conv1)\n",
    "\n",
    "        # Second Conv block with Conv and BN only\n",
    "        conv2 = Conv(out_channel, kernel_size=3, padding='same', name=\"Conv{}_2\".format(i))(act1)\n",
    "        if batch_norm:\n",
    "            conv2 = BatchNormalization(name=\"BN{}_2\".format(i))(conv2)\n",
    "\n",
    "        resconnection = Add(name=\"Add{}_1\".format(i))([res, conv2])\n",
    "\n",
    "        act2 = Activation(activation, name=\"Act{}_2\".format(i))(resconnection)\n",
    "\n",
    "        # Max pooling\n",
    "        if i < depth - 1:\n",
    "            long_connection_store[str(i)] = act2\n",
    "            x = MaxPooling(padding='same', name=\"MaxPooling{}_1\".format(i))(act2)\n",
    "        else:\n",
    "            x = act2\n",
    "\n",
    "    # Upsampling\n",
    "    for i in range(depth - 2, -1, -1):\n",
    "        out_channel = 2**(i) * filter_root\n",
    "        #out_channel = filter_root\n",
    "\n",
    "        # long connection from down sampling path.\n",
    "        long_connection = long_connection_store[str(i)]\n",
    "\n",
    "        up1 = UpSampling(name=\"UpSampling{}_1\".format(i))(x)\n",
    "        up_conv1 = Conv(out_channel, 2, activation='relu', padding='same', name=\"upConv{}_1\".format(i))(up1)\n",
    "\n",
    "        #  Concatenate.\n",
    "        up_conc = Concatenate(axis=-1, name=\"upConcatenate{}_1\".format(i))([up_conv1, long_connection])\n",
    "\n",
    "        #  Convolutions\n",
    "        up_conv2 = Conv(out_channel, 3, padding='same', name=\"upConv{}_11\".format(i))(up_conc)\n",
    "        if batch_norm:\n",
    "            up_conv2 = BatchNormalization(name=\"upBN{}_1\".format(i))(up_conv2)\n",
    "        up_act1 = Activation(activation, name=\"upAct{}_1\".format(i))(up_conv2)\n",
    "\n",
    "        up_conv2 = Conv(out_channel, 3, padding='same', name=\"upConv{}_2\".format(i))(up_act1)\n",
    "        if batch_norm:\n",
    "            up_conv2 = BatchNormalization(name=\"upBN{}_2\".format(i))(up_conv2)\n",
    "\n",
    "        # Residual/Skip connection\n",
    "        res = Conv(out_channel, kernel_size=1, padding='same', use_bias=False, name=\"upIdentity{}_1\".format(i))(up_conc)\n",
    "\n",
    "        resconnection = Add(name=\"upAdd{}_1\".format(i))([res, up_conv2])\n",
    "\n",
    "        x = Activation(activation, name=\"upAct{}_2\".format(i))(resconnection)\n",
    "\n",
    "    # Final convolution\n",
    "    output = Conv(n_class, 1, padding='same', activation=final_activation, name='output')(x)\n",
    "\n",
    "    return Model(inputs, outputs=output, name='Res-UNet')"
   ]
  },
  {
   "cell_type": "code",
   "execution_count": 7,
   "metadata": {
    "colab": {
     "base_uri": "https://localhost:8080/"
    },
    "id": "FhsMRx8ePvqk",
    "outputId": "54894e67-0ab5-4835-8112-b14de3706806"
   },
   "outputs": [
    {
     "output_type": "stream",
     "name": "stdout",
     "text": [
      "Model compiled.\nModel: \"Res-UNet\"\n__________________________________________________________________________________________________\nLayer (type)                    Output Shape         Param #     Connected to                     \n==================================================================================================\ninput_3 (InputLayer)            [(None, 512, 512, 3) 0                                            \n__________________________________________________________________________________________________\nConv0_1 (Conv2D)                (None, 512, 512, 64) 1792        input_3[0][0]                    \n__________________________________________________________________________________________________\nBN0_1 (BatchNormalization)      (None, 512, 512, 64) 256         Conv0_1[0][0]                    \n__________________________________________________________________________________________________\nAct0_1 (Activation)             (None, 512, 512, 64) 0           BN0_1[0][0]                      \n__________________________________________________________________________________________________\nConv0_2 (Conv2D)                (None, 512, 512, 64) 36928       Act0_1[0][0]                     \n__________________________________________________________________________________________________\nIdentity0_1 (Conv2D)            (None, 512, 512, 64) 192         input_3[0][0]                    \n__________________________________________________________________________________________________\nBN0_2 (BatchNormalization)      (None, 512, 512, 64) 256         Conv0_2[0][0]                    \n__________________________________________________________________________________________________\nAdd0_1 (Add)                    (None, 512, 512, 64) 0           Identity0_1[0][0]                \n                                                                 BN0_2[0][0]                      \n__________________________________________________________________________________________________\nAct0_2 (Activation)             (None, 512, 512, 64) 0           Add0_1[0][0]                     \n__________________________________________________________________________________________________\nMaxPooling0_1 (MaxPooling2D)    (None, 256, 256, 64) 0           Act0_2[0][0]                     \n__________________________________________________________________________________________________\nConv1_1 (Conv2D)                (None, 256, 256, 128 73856       MaxPooling0_1[0][0]              \n__________________________________________________________________________________________________\nBN1_1 (BatchNormalization)      (None, 256, 256, 128 512         Conv1_1[0][0]                    \n__________________________________________________________________________________________________\nAct1_1 (Activation)             (None, 256, 256, 128 0           BN1_1[0][0]                      \n__________________________________________________________________________________________________\nConv1_2 (Conv2D)                (None, 256, 256, 128 147584      Act1_1[0][0]                     \n__________________________________________________________________________________________________\nIdentity1_1 (Conv2D)            (None, 256, 256, 128 8192        MaxPooling0_1[0][0]              \n__________________________________________________________________________________________________\nBN1_2 (BatchNormalization)      (None, 256, 256, 128 512         Conv1_2[0][0]                    \n__________________________________________________________________________________________________\nAdd1_1 (Add)                    (None, 256, 256, 128 0           Identity1_1[0][0]                \n                                                                 BN1_2[0][0]                      \n__________________________________________________________________________________________________\nAct1_2 (Activation)             (None, 256, 256, 128 0           Add1_1[0][0]                     \n__________________________________________________________________________________________________\nMaxPooling1_1 (MaxPooling2D)    (None, 128, 128, 128 0           Act1_2[0][0]                     \n__________________________________________________________________________________________________\nConv2_1 (Conv2D)                (None, 128, 128, 256 295168      MaxPooling1_1[0][0]              \n__________________________________________________________________________________________________\nBN2_1 (BatchNormalization)      (None, 128, 128, 256 1024        Conv2_1[0][0]                    \n__________________________________________________________________________________________________\nAct2_1 (Activation)             (None, 128, 128, 256 0           BN2_1[0][0]                      \n__________________________________________________________________________________________________\nConv2_2 (Conv2D)                (None, 128, 128, 256 590080      Act2_1[0][0]                     \n__________________________________________________________________________________________________\nIdentity2_1 (Conv2D)            (None, 128, 128, 256 32768       MaxPooling1_1[0][0]              \n__________________________________________________________________________________________________\nBN2_2 (BatchNormalization)      (None, 128, 128, 256 1024        Conv2_2[0][0]                    \n__________________________________________________________________________________________________\nAdd2_1 (Add)                    (None, 128, 128, 256 0           Identity2_1[0][0]                \n                                                                 BN2_2[0][0]                      \n__________________________________________________________________________________________________\nAct2_2 (Activation)             (None, 128, 128, 256 0           Add2_1[0][0]                     \n__________________________________________________________________________________________________\nMaxPooling2_1 (MaxPooling2D)    (None, 64, 64, 256)  0           Act2_2[0][0]                     \n__________________________________________________________________________________________________\nConv3_1 (Conv2D)                (None, 64, 64, 512)  1180160     MaxPooling2_1[0][0]              \n__________________________________________________________________________________________________\nBN3_1 (BatchNormalization)      (None, 64, 64, 512)  2048        Conv3_1[0][0]                    \n__________________________________________________________________________________________________\nAct3_1 (Activation)             (None, 64, 64, 512)  0           BN3_1[0][0]                      \n__________________________________________________________________________________________________\nConv3_2 (Conv2D)                (None, 64, 64, 512)  2359808     Act3_1[0][0]                     \n__________________________________________________________________________________________________\nIdentity3_1 (Conv2D)            (None, 64, 64, 512)  131072      MaxPooling2_1[0][0]              \n__________________________________________________________________________________________________\nBN3_2 (BatchNormalization)      (None, 64, 64, 512)  2048        Conv3_2[0][0]                    \n__________________________________________________________________________________________________\nAdd3_1 (Add)                    (None, 64, 64, 512)  0           Identity3_1[0][0]                \n                                                                 BN3_2[0][0]                      \n__________________________________________________________________________________________________\nAct3_2 (Activation)             (None, 64, 64, 512)  0           Add3_1[0][0]                     \n__________________________________________________________________________________________________\nUpSampling2_1 (UpSampling2D)    (None, 128, 128, 512 0           Act3_2[0][0]                     \n__________________________________________________________________________________________________\nupConv2_1 (Conv2D)              (None, 128, 128, 256 524544      UpSampling2_1[0][0]              \n__________________________________________________________________________________________________\nupConcatenate2_1 (Concatenate)  (None, 128, 128, 512 0           upConv2_1[0][0]                  \n                                                                 Act2_2[0][0]                     \n__________________________________________________________________________________________________\nupConv2_11 (Conv2D)             (None, 128, 128, 256 1179904     upConcatenate2_1[0][0]           \n__________________________________________________________________________________________________\nupBN2_1 (BatchNormalization)    (None, 128, 128, 256 1024        upConv2_11[0][0]                 \n__________________________________________________________________________________________________\nupAct2_1 (Activation)           (None, 128, 128, 256 0           upBN2_1[0][0]                    \n__________________________________________________________________________________________________\nupConv2_2 (Conv2D)              (None, 128, 128, 256 590080      upAct2_1[0][0]                   \n__________________________________________________________________________________________________\nupIdentity2_1 (Conv2D)          (None, 128, 128, 256 131072      upConcatenate2_1[0][0]           \n__________________________________________________________________________________________________\nupBN2_2 (BatchNormalization)    (None, 128, 128, 256 1024        upConv2_2[0][0]                  \n__________________________________________________________________________________________________\nupAdd2_1 (Add)                  (None, 128, 128, 256 0           upIdentity2_1[0][0]              \n                                                                 upBN2_2[0][0]                    \n__________________________________________________________________________________________________\nupAct2_2 (Activation)           (None, 128, 128, 256 0           upAdd2_1[0][0]                   \n__________________________________________________________________________________________________\nUpSampling1_1 (UpSampling2D)    (None, 256, 256, 256 0           upAct2_2[0][0]                   \n__________________________________________________________________________________________________\nupConv1_1 (Conv2D)              (None, 256, 256, 128 131200      UpSampling1_1[0][0]              \n__________________________________________________________________________________________________\nupConcatenate1_1 (Concatenate)  (None, 256, 256, 256 0           upConv1_1[0][0]                  \n                                                                 Act1_2[0][0]                     \n__________________________________________________________________________________________________\nupConv1_11 (Conv2D)             (None, 256, 256, 128 295040      upConcatenate1_1[0][0]           \n__________________________________________________________________________________________________\nupBN1_1 (BatchNormalization)    (None, 256, 256, 128 512         upConv1_11[0][0]                 \n__________________________________________________________________________________________________\nupAct1_1 (Activation)           (None, 256, 256, 128 0           upBN1_1[0][0]                    \n__________________________________________________________________________________________________\nupConv1_2 (Conv2D)              (None, 256, 256, 128 147584      upAct1_1[0][0]                   \n__________________________________________________________________________________________________\nupIdentity1_1 (Conv2D)          (None, 256, 256, 128 32768       upConcatenate1_1[0][0]           \n__________________________________________________________________________________________________\nupBN1_2 (BatchNormalization)    (None, 256, 256, 128 512         upConv1_2[0][0]                  \n__________________________________________________________________________________________________\nupAdd1_1 (Add)                  (None, 256, 256, 128 0           upIdentity1_1[0][0]              \n                                                                 upBN1_2[0][0]                    \n__________________________________________________________________________________________________\nupAct1_2 (Activation)           (None, 256, 256, 128 0           upAdd1_1[0][0]                   \n__________________________________________________________________________________________________\nUpSampling0_1 (UpSampling2D)    (None, 512, 512, 128 0           upAct1_2[0][0]                   \n__________________________________________________________________________________________________\nupConv0_1 (Conv2D)              (None, 512, 512, 64) 32832       UpSampling0_1[0][0]              \n__________________________________________________________________________________________________\nupConcatenate0_1 (Concatenate)  (None, 512, 512, 128 0           upConv0_1[0][0]                  \n                                                                 Act0_2[0][0]                     \n__________________________________________________________________________________________________\nupConv0_11 (Conv2D)             (None, 512, 512, 64) 73792       upConcatenate0_1[0][0]           \n__________________________________________________________________________________________________\nupBN0_1 (BatchNormalization)    (None, 512, 512, 64) 256         upConv0_11[0][0]                 \n__________________________________________________________________________________________________\nupAct0_1 (Activation)           (None, 512, 512, 64) 0           upBN0_1[0][0]                    \n__________________________________________________________________________________________________\nupConv0_2 (Conv2D)              (None, 512, 512, 64) 36928       upAct0_1[0][0]                   \n__________________________________________________________________________________________________\nupIdentity0_1 (Conv2D)          (None, 512, 512, 64) 8192        upConcatenate0_1[0][0]           \n__________________________________________________________________________________________________\nupBN0_2 (BatchNormalization)    (None, 512, 512, 64) 256         upConv0_2[0][0]                  \n__________________________________________________________________________________________________\nupAdd0_1 (Add)                  (None, 512, 512, 64) 0           upIdentity0_1[0][0]              \n                                                                 upBN0_2[0][0]                    \n__________________________________________________________________________________________________\nupAct0_2 (Activation)           (None, 512, 512, 64) 0           upAdd0_1[0][0]                   \n__________________________________________________________________________________________________\noutput (Conv2D)                 (None, 512, 512, 1)  65          upAct0_2[0][0]                   \n==================================================================================================\nTotal params: 8,052,865\nTrainable params: 8,047,233\nNon-trainable params: 5,632\n__________________________________________________________________________________________________\n"
     ]
    }
   ],
   "source": [
    "model = res_unet(filter_root=64, depth=4, input_size= (512,512,3), n_class=1, final_activation='sigmoid')\n",
    "model.compile(optimizer = Adam(lr = 1e-3), loss = 'binary_crossentropy', metrics = ['accuracy', iou_thresholded, dice_coef])\n",
    "print('Model compiled.')\n",
    "model.summary()"
   ]
  },
  {
   "cell_type": "markdown",
   "metadata": {
    "id": "fBj8-pSF_ZOm"
   },
   "source": [
    "## Training of model\n",
    "Adjust validation and traning steps in line to your data size. Since we use the augmentation, the steps_per_epoch can be set to be rather large -> $batchsize \\cdot steps$ > size of training data. For validation steps we simply set -> $batchsize \\cdot steps$ = size of validation data. Parameters in the step decay can also be modified according to your preferences. "
   ]
  },
  {
   "cell_type": "code",
   "execution_count": 6,
   "metadata": {
    "colab": {
     "base_uri": "https://localhost:8080/"
    },
    "id": "ovE39loZLwYg",
    "outputId": "153f18b2-c4e7-44ea-952f-474b34f5a5ec"
   },
   "outputs": [
    {
     "name": "stdout",
     "output_type": "stream",
     "text": [
      "Epoch 1/30\n",
      "400/400 [==============================] - 159s 384ms/step - loss: 0.3956 - accuracy: 0.8164 - iou_thresholded: 0.1928 - dice_coef: 0.1980 - val_loss: 0.1385 - val_accuracy: 0.9471 - val_iou_thresholded: 0.4575 - val_dice_coef: 0.5169\n",
      "\n",
      "Epoch 00001: val_loss improved from inf to 0.13851, saving model to vegas-unet-weights-v3.h5\n",
      "Epoch 2/30\n",
      "400/400 [==============================] - 158s 394ms/step - loss: 0.1254 - accuracy: 0.9085 - iou_thresholded: 0.3682 - dice_coef: 0.3610 - val_loss: 0.1192 - val_accuracy: 0.9494 - val_iou_thresholded: 0.4787 - val_dice_coef: 0.5355\n",
      "\n",
      "Epoch 00002: val_loss improved from 0.13851 to 0.11919, saving model to vegas-unet-weights-v3.h5\n",
      "Epoch 3/30\n",
      "400/400 [==============================] - 155s 389ms/step - loss: 0.1208 - accuracy: 0.9077 - iou_thresholded: 0.3789 - dice_coef: 0.3807 - val_loss: 0.1142 - val_accuracy: 0.9531 - val_iou_thresholded: 0.5053 - val_dice_coef: 0.5306\n",
      "\n",
      "Epoch 00003: val_loss improved from 0.11919 to 0.11424, saving model to vegas-unet-weights-v3.h5\n",
      "Epoch 4/30\n",
      "400/400 [==============================] - 155s 387ms/step - loss: 0.1168 - accuracy: 0.9084 - iou_thresholded: 0.3889 - dice_coef: 0.3956 - val_loss: 0.1173 - val_accuracy: 0.9537 - val_iou_thresholded: 0.5159 - val_dice_coef: 0.5155\n",
      "\n",
      "Epoch 00004: val_loss did not improve from 0.11424\n",
      "Epoch 5/30\n",
      "400/400 [==============================] - 155s 386ms/step - loss: 0.1150 - accuracy: 0.9086 - iou_thresholded: 0.4012 - dice_coef: 0.4025 - val_loss: 0.1249 - val_accuracy: 0.9503 - val_iou_thresholded: 0.4929 - val_dice_coef: 0.4724\n",
      "\n",
      "Epoch 00005: val_loss did not improve from 0.11424\n",
      "Epoch 6/30\n",
      "400/400 [==============================] - 155s 387ms/step - loss: 0.1156 - accuracy: 0.9068 - iou_thresholded: 0.4049 - dice_coef: 0.4116 - val_loss: 0.1141 - val_accuracy: 0.9551 - val_iou_thresholded: 0.5128 - val_dice_coef: 0.5416\n",
      "\n",
      "Epoch 00006: val_loss improved from 0.11424 to 0.11413, saving model to vegas-unet-weights-v3.h5\n",
      "Epoch 7/30\n",
      "400/400 [==============================] - 155s 387ms/step - loss: 0.1135 - accuracy: 0.9077 - iou_thresholded: 0.4039 - dice_coef: 0.4101 - val_loss: 0.1135 - val_accuracy: 0.9530 - val_iou_thresholded: 0.5281 - val_dice_coef: 0.4887\n",
      "\n",
      "Epoch 00007: val_loss improved from 0.11413 to 0.11351, saving model to vegas-unet-weights-v3.h5\n",
      "Epoch 8/30\n",
      "400/400 [==============================] - 155s 387ms/step - loss: 0.1088 - accuracy: 0.9077 - iou_thresholded: 0.4232 - dice_coef: 0.4261 - val_loss: 0.1129 - val_accuracy: 0.9540 - val_iou_thresholded: 0.5290 - val_dice_coef: 0.4985\n",
      "\n",
      "Epoch 00008: val_loss improved from 0.11351 to 0.11292, saving model to vegas-unet-weights-v3.h5\n",
      "Epoch 9/30\n",
      "400/400 [==============================] - 157s 393ms/step - loss: 0.1086 - accuracy: 0.9056 - iou_thresholded: 0.4241 - dice_coef: 0.4297 - val_loss: 0.1110 - val_accuracy: 0.9554 - val_iou_thresholded: 0.5373 - val_dice_coef: 0.5164\n",
      "\n",
      "Epoch 00009: val_loss improved from 0.11292 to 0.11104, saving model to vegas-unet-weights-v3.h5\n",
      "Epoch 10/30\n",
      "400/400 [==============================] - 155s 387ms/step - loss: 0.1064 - accuracy: 0.9076 - iou_thresholded: 0.4360 - dice_coef: 0.4434 - val_loss: 0.1094 - val_accuracy: 0.9558 - val_iou_thresholded: 0.5352 - val_dice_coef: 0.5203\n",
      "\n",
      "Epoch 00010: val_loss improved from 0.11104 to 0.10942, saving model to vegas-unet-weights-v3.h5\n",
      "Epoch 11/30\n",
      "400/400 [==============================] - 155s 388ms/step - loss: 0.1060 - accuracy: 0.9074 - iou_thresholded: 0.4291 - dice_coef: 0.4371 - val_loss: 0.1129 - val_accuracy: 0.9552 - val_iou_thresholded: 0.5198 - val_dice_coef: 0.5282\n",
      "\n",
      "Epoch 00011: val_loss did not improve from 0.10942\n",
      "Epoch 12/30\n",
      "400/400 [==============================] - 155s 388ms/step - loss: 0.1054 - accuracy: 0.9068 - iou_thresholded: 0.4345 - dice_coef: 0.4435 - val_loss: 0.1118 - val_accuracy: 0.9552 - val_iou_thresholded: 0.5298 - val_dice_coef: 0.5163\n",
      "\n",
      "Epoch 00012: val_loss did not improve from 0.10942\n",
      "Epoch 13/30\n",
      "400/400 [==============================] - 155s 387ms/step - loss: 0.1050 - accuracy: 0.9074 - iou_thresholded: 0.4367 - dice_coef: 0.4451 - val_loss: 0.1085 - val_accuracy: 0.9562 - val_iou_thresholded: 0.5302 - val_dice_coef: 0.5478\n",
      "\n",
      "Epoch 00013: val_loss improved from 0.10942 to 0.10851, saving model to vegas-unet-weights-v3.h5\n",
      "Epoch 14/30\n",
      "400/400 [==============================] - 155s 388ms/step - loss: 0.1039 - accuracy: 0.9075 - iou_thresholded: 0.4402 - dice_coef: 0.4512 - val_loss: 0.1099 - val_accuracy: 0.9564 - val_iou_thresholded: 0.5325 - val_dice_coef: 0.5355\n",
      "\n",
      "Epoch 00014: val_loss did not improve from 0.10851\n",
      "Epoch 15/30\n",
      "400/400 [==============================] - 155s 388ms/step - loss: 0.1032 - accuracy: 0.9075 - iou_thresholded: 0.4393 - dice_coef: 0.4491 - val_loss: 0.1120 - val_accuracy: 0.9556 - val_iou_thresholded: 0.5293 - val_dice_coef: 0.5311\n",
      "\n",
      "Epoch 00015: val_loss did not improve from 0.10851\n",
      "Epoch 16/30\n",
      "400/400 [==============================] - 155s 388ms/step - loss: 0.1016 - accuracy: 0.9080 - iou_thresholded: 0.4377 - dice_coef: 0.4495 - val_loss: 0.1087 - val_accuracy: 0.9566 - val_iou_thresholded: 0.5357 - val_dice_coef: 0.5305\n",
      "\n",
      "Epoch 00016: val_loss did not improve from 0.10851\n",
      "Epoch 17/30\n",
      "400/400 [==============================] - 155s 388ms/step - loss: 0.1016 - accuracy: 0.9081 - iou_thresholded: 0.4402 - dice_coef: 0.4492 - val_loss: 0.1104 - val_accuracy: 0.9560 - val_iou_thresholded: 0.5403 - val_dice_coef: 0.5215\n",
      "\n",
      "Epoch 00017: val_loss did not improve from 0.10851\n",
      "Epoch 18/30\n",
      "400/400 [==============================] - 155s 388ms/step - loss: 0.1023 - accuracy: 0.9077 - iou_thresholded: 0.4423 - dice_coef: 0.4511 - val_loss: 0.1078 - val_accuracy: 0.9569 - val_iou_thresholded: 0.5426 - val_dice_coef: 0.5401\n",
      "\n",
      "Epoch 00018: val_loss improved from 0.10851 to 0.10783, saving model to vegas-unet-weights-v3.h5\n",
      "Epoch 19/30\n",
      "400/400 [==============================] - 157s 394ms/step - loss: 0.1054 - accuracy: 0.9044 - iou_thresholded: 0.4428 - dice_coef: 0.4544 - val_loss: 0.1094 - val_accuracy: 0.9566 - val_iou_thresholded: 0.5383 - val_dice_coef: 0.5355\n",
      "\n",
      "Epoch 00019: val_loss did not improve from 0.10783\n",
      "Epoch 20/30\n",
      "400/400 [==============================] - 155s 388ms/step - loss: 0.1015 - accuracy: 0.9079 - iou_thresholded: 0.4462 - dice_coef: 0.4583 - val_loss: 0.1095 - val_accuracy: 0.9566 - val_iou_thresholded: 0.5428 - val_dice_coef: 0.5367\n",
      "\n",
      "Epoch 00020: val_loss did not improve from 0.10783\n",
      "Epoch 21/30\n",
      "400/400 [==============================] - 155s 389ms/step - loss: 0.1007 - accuracy: 0.9076 - iou_thresholded: 0.4480 - dice_coef: 0.4580 - val_loss: 0.1115 - val_accuracy: 0.9559 - val_iou_thresholded: 0.5394 - val_dice_coef: 0.5208\n",
      "\n",
      "Epoch 00021: val_loss did not improve from 0.10783\n",
      "Epoch 22/30\n",
      "400/400 [==============================] - 155s 388ms/step - loss: 0.1021 - accuracy: 0.9068 - iou_thresholded: 0.4426 - dice_coef: 0.4498 - val_loss: 0.1097 - val_accuracy: 0.9564 - val_iou_thresholded: 0.5383 - val_dice_coef: 0.5247\n",
      "\n",
      "Epoch 00022: val_loss did not improve from 0.10783\n",
      "Epoch 23/30\n",
      "400/400 [==============================] - 155s 389ms/step - loss: 0.0995 - accuracy: 0.9089 - iou_thresholded: 0.4485 - dice_coef: 0.4590 - val_loss: 0.1096 - val_accuracy: 0.9566 - val_iou_thresholded: 0.5445 - val_dice_coef: 0.5353\n",
      "\n",
      "Epoch 00023: val_loss did not improve from 0.10783\n",
      "Epoch 24/30\n",
      "400/400 [==============================] - 155s 389ms/step - loss: 0.0998 - accuracy: 0.9078 - iou_thresholded: 0.4461 - dice_coef: 0.4587 - val_loss: 0.1089 - val_accuracy: 0.9569 - val_iou_thresholded: 0.5416 - val_dice_coef: 0.5340\n",
      "\n",
      "Epoch 00024: val_loss did not improve from 0.10783\n",
      "Epoch 25/30\n",
      "400/400 [==============================] - 155s 388ms/step - loss: 0.1011 - accuracy: 0.9077 - iou_thresholded: 0.4471 - dice_coef: 0.4584 - val_loss: 0.1090 - val_accuracy: 0.9567 - val_iou_thresholded: 0.5426 - val_dice_coef: 0.5388\n",
      "\n",
      "Epoch 00025: val_loss did not improve from 0.10783\n",
      "Epoch 26/30\n",
      "400/400 [==============================] - 155s 388ms/step - loss: 0.1026 - accuracy: 0.9062 - iou_thresholded: 0.4435 - dice_coef: 0.4556 - val_loss: 0.1092 - val_accuracy: 0.9566 - val_iou_thresholded: 0.5385 - val_dice_coef: 0.5339\n",
      "\n",
      "Epoch 00026: val_loss did not improve from 0.10783\n",
      "Epoch 27/30\n",
      "400/400 [==============================] - 155s 388ms/step - loss: 0.1016 - accuracy: 0.9065 - iou_thresholded: 0.4514 - dice_coef: 0.4606 - val_loss: 0.1089 - val_accuracy: 0.9568 - val_iou_thresholded: 0.5381 - val_dice_coef: 0.5348\n",
      "\n",
      "Epoch 00027: val_loss did not improve from 0.10783\n",
      "Epoch 28/30\n",
      "400/400 [==============================] - 155s 388ms/step - loss: 0.1010 - accuracy: 0.9072 - iou_thresholded: 0.4475 - dice_coef: 0.4581 - val_loss: 0.1099 - val_accuracy: 0.9564 - val_iou_thresholded: 0.5406 - val_dice_coef: 0.5330\n",
      "\n",
      "Epoch 00028: val_loss did not improve from 0.10783\n",
      "Epoch 29/30\n",
      "400/400 [==============================] - 156s 389ms/step - loss: 0.1003 - accuracy: 0.9078 - iou_thresholded: 0.4484 - dice_coef: 0.4586 - val_loss: 0.1086 - val_accuracy: 0.9568 - val_iou_thresholded: 0.5398 - val_dice_coef: 0.5406\n",
      "\n",
      "Epoch 00029: val_loss did not improve from 0.10783\n",
      "Epoch 30/30\n",
      "400/400 [==============================] - 155s 388ms/step - loss: 0.1036 - accuracy: 0.9045 - iou_thresholded: 0.4498 - dice_coef: 0.4641 - val_loss: 0.1082 - val_accuracy: 0.9572 - val_iou_thresholded: 0.5396 - val_dice_coef: 0.5371\n",
      "\n",
      "Epoch 00030: val_loss did not improve from 0.10783\n",
      "Model trained and weights saved.\n"
     ]
    }
   ],
   "source": [
    "def step_decay(epoch):\n",
    "\tinitial_lrate = 1e-3\n",
    "\tdrop = 0.2\n",
    "\tepochs_drop = 8\n",
    "\tlrate = initial_lrate * math.pow(drop, math.floor((1+epoch)/epochs_drop))\n",
    "\treturn lrate\n",
    "\n",
    "model_checkpoint = ModelCheckpoint('vegas-resunet-weights-v2.h5', verbose=1, monitor='val_loss', save_best_only=True)\n",
    "es = EarlyStopping(monitor='val_loss', patience=10)\n",
    "lrate = LearningRateScheduler(step_decay)\n",
    "csv_logger = CSVLogger('vegas-resunet-log-v2.csv')\n",
    "\n",
    "batch_size = 4\n",
    "history = model.fit(\n",
    "    train_generator,\n",
    "    steps_per_epoch = 500,\n",
    "    validation_data = val_generator, \n",
    "    validation_steps = 165//batch_size,\n",
    "    epochs = 30,\n",
    "    callbacks=[model_checkpoint, es, lrate, csv_logger],\n",
    "    verbose=1)\n",
    "print('Model trained and weights saved.')"
   ]
  },
  {
   "cell_type": "markdown",
   "metadata": {
    "id": "K5HCxZsDhGK-"
   },
   "source": [
    "## Evaluating model on test data\n",
    "First we make predictions based on the test images. Then we evaluate the model metrics. Finally, we save the predicted masks, ground truth masks and input imagery in a new folder. "
   ]
  },
  {
   "cell_type": "code",
   "execution_count": 10,
   "metadata": {
    "id": "JE4uhYI__0lN"
   },
   "outputs": [],
   "source": [
    "model.load_weights('vegas-unet-weights-v3.h5')\n",
    "y_pred = model.predict(test_generator)"
   ]
  },
  {
   "cell_type": "code",
   "execution_count": 11,
   "metadata": {},
   "outputs": [
    {
     "name": "stdout",
     "output_type": "stream",
     "text": [
      "23/23 [==============================] - 3s 115ms/step - loss: 0.1166 - accuracy: 0.9541 - iou_thresholded: 0.5240 - dice_coef: 0.5238\n"
     ]
    },
    {
     "data": {
      "text/plain": [
       "[0.10942984372377396,\n",
       " 0.9548848867416382,\n",
       " 0.5492416024208069,\n",
       " 0.5450347661972046]"
      ]
     },
     "execution_count": 11,
     "metadata": {},
     "output_type": "execute_result"
    }
   ],
   "source": [
    "model.evaluate(test_gen, steps=23)"
   ]
  },
  {
   "cell_type": "code",
   "execution_count": 12,
   "metadata": {
    "id": "yKMGE-vRIUnJ"
   },
   "outputs": [],
   "source": [
    "pred_dir = '/new/path/to/predictions'\n",
    "mask_dir = '/path/to/test/masks'\n",
    "for i, image in enumerate(y_pred):\n",
    "    image = (image * 255).astype(np.uint8)\n",
    "    cv2.imwrite(os.path.join(pred_dir, str(i) + '_pred.png'), image)\n",
    "    cv2.imwrite(os.path.join(pred_dir, str(i) + '_ground-truth.png'), cv2.imread(os.path.join(mask_dir,test_mask_generator.filenames[i]),1))\n",
    "    cv2.imwrite(os.path.join(pred_dir, str(i) + '_original.png'), cv2.imread(os.path.join(mask_dir,test_generator.filenames[i]),1))\n"
   ]
  },
  {
   "cell_type": "markdown",
   "metadata": {
    "id": "vCKbD3dwZyki"
   },
   "source": [
    "## Model performance\n",
    "Using plotly to vizualize the training process in terms of loss and accuracy"
   ]
  },
  {
   "cell_type": "code",
   "execution_count": 2,
   "metadata": {},
   "outputs": [
    {
     "output_type": "display_data",
     "data": {
      "application/vnd.plotly.v1+json": {
       "config": {
        "plotlyServerURL": "https://plot.ly"
       },
       "data": [
        {
         "hovertemplate": "variable=loss<br>epoch=%{x}<br>value=%{y}<extra></extra>",
         "legendgroup": "loss",
         "line": {
          "color": "#636efa",
          "dash": "solid"
         },
         "mode": "lines",
         "name": "loss",
         "orientation": "v",
         "showlegend": true,
         "type": "scatter",
         "x": [
          0,
          1,
          2,
          3,
          4,
          5,
          6,
          7,
          8,
          9,
          10,
          11,
          12,
          13,
          14,
          15,
          16,
          17,
          18,
          19,
          20,
          21,
          22,
          23,
          24,
          25,
          26,
          27
         ],
         "xaxis": "x",
         "y": [
          0.1409825086593628,
          0.12402383983135225,
          0.12184851616621015,
          0.11691942811012268,
          0.114485964179039,
          0.114456444978714,
          0.11356929689645767,
          0.10716010630130768,
          0.1074950397014618,
          0.10660094767808914,
          0.10515256226062776,
          0.10529037564992903,
          0.10484252870082857,
          0.10365356504917143,
          0.10402468591928482,
          0.1013222709298134,
          0.10178801417350768,
          0.10098918527364732,
          0.1024968847632408,
          0.1007281094789505,
          0.10025578737258913,
          0.10071469843387604,
          0.09950179606676103,
          0.09920448064804076,
          0.09978149086236954,
          0.1002851352095604,
          0.10002300143241882,
          0.09979063272476196
         ],
         "yaxis": "y"
        },
        {
         "hovertemplate": "variable=val_loss<br>epoch=%{x}<br>value=%{y}<extra></extra>",
         "legendgroup": "val_loss",
         "line": {
          "color": "#EF553B",
          "dash": "solid"
         },
         "mode": "lines",
         "name": "val_loss",
         "orientation": "v",
         "showlegend": true,
         "type": "scatter",
         "x": [
          0,
          1,
          2,
          3,
          4,
          5,
          6,
          7,
          8,
          9,
          10,
          11,
          12,
          13,
          14,
          15,
          16,
          17,
          18,
          19,
          20,
          21,
          22,
          23,
          24,
          25,
          26,
          27
         ],
         "xaxis": "x",
         "y": [
          0.14893540740013125,
          0.1517840027809143,
          0.1266804039478302,
          0.13437181711196902,
          0.1380407214164734,
          0.11568910628557205,
          0.11865632236003874,
          0.1107252985239029,
          0.10765160620212556,
          0.10938049852848053,
          0.11257868260145187,
          0.11128689348697662,
          0.10725552588701248,
          0.10825911909341812,
          0.11126135289669037,
          0.10740641504526137,
          0.10883602499961853,
          0.10757943987846376,
          0.10859721899032593,
          0.10930939763784407,
          0.11046744883060457,
          0.10852135717868804,
          0.10812228918075563,
          0.10737979412078856,
          0.10799039155244827,
          0.10791736841201782,
          0.10767216980457306,
          0.10867241770029068
         ],
         "yaxis": "y"
        }
       ],
       "layout": {
        "font": {
         "size": 16
        },
        "legend": {
         "title": {
          "text": "variable"
         },
         "tracegroupgap": 0
        },
        "margin": {
         "t": 60
        },
        "template": {
         "data": {
          "bar": [
           {
            "error_x": {
             "color": "#2a3f5f"
            },
            "error_y": {
             "color": "#2a3f5f"
            },
            "marker": {
             "line": {
              "color": "#E5ECF6",
              "width": 0.5
             }
            },
            "type": "bar"
           }
          ],
          "barpolar": [
           {
            "marker": {
             "line": {
              "color": "#E5ECF6",
              "width": 0.5
             }
            },
            "type": "barpolar"
           }
          ],
          "carpet": [
           {
            "aaxis": {
             "endlinecolor": "#2a3f5f",
             "gridcolor": "white",
             "linecolor": "white",
             "minorgridcolor": "white",
             "startlinecolor": "#2a3f5f"
            },
            "baxis": {
             "endlinecolor": "#2a3f5f",
             "gridcolor": "white",
             "linecolor": "white",
             "minorgridcolor": "white",
             "startlinecolor": "#2a3f5f"
            },
            "type": "carpet"
           }
          ],
          "choropleth": [
           {
            "colorbar": {
             "outlinewidth": 0,
             "ticks": ""
            },
            "type": "choropleth"
           }
          ],
          "contour": [
           {
            "colorbar": {
             "outlinewidth": 0,
             "ticks": ""
            },
            "colorscale": [
             [
              0,
              "#0d0887"
             ],
             [
              0.1111111111111111,
              "#46039f"
             ],
             [
              0.2222222222222222,
              "#7201a8"
             ],
             [
              0.3333333333333333,
              "#9c179e"
             ],
             [
              0.4444444444444444,
              "#bd3786"
             ],
             [
              0.5555555555555556,
              "#d8576b"
             ],
             [
              0.6666666666666666,
              "#ed7953"
             ],
             [
              0.7777777777777778,
              "#fb9f3a"
             ],
             [
              0.8888888888888888,
              "#fdca26"
             ],
             [
              1,
              "#f0f921"
             ]
            ],
            "type": "contour"
           }
          ],
          "contourcarpet": [
           {
            "colorbar": {
             "outlinewidth": 0,
             "ticks": ""
            },
            "type": "contourcarpet"
           }
          ],
          "heatmap": [
           {
            "colorbar": {
             "outlinewidth": 0,
             "ticks": ""
            },
            "colorscale": [
             [
              0,
              "#0d0887"
             ],
             [
              0.1111111111111111,
              "#46039f"
             ],
             [
              0.2222222222222222,
              "#7201a8"
             ],
             [
              0.3333333333333333,
              "#9c179e"
             ],
             [
              0.4444444444444444,
              "#bd3786"
             ],
             [
              0.5555555555555556,
              "#d8576b"
             ],
             [
              0.6666666666666666,
              "#ed7953"
             ],
             [
              0.7777777777777778,
              "#fb9f3a"
             ],
             [
              0.8888888888888888,
              "#fdca26"
             ],
             [
              1,
              "#f0f921"
             ]
            ],
            "type": "heatmap"
           }
          ],
          "heatmapgl": [
           {
            "colorbar": {
             "outlinewidth": 0,
             "ticks": ""
            },
            "colorscale": [
             [
              0,
              "#0d0887"
             ],
             [
              0.1111111111111111,
              "#46039f"
             ],
             [
              0.2222222222222222,
              "#7201a8"
             ],
             [
              0.3333333333333333,
              "#9c179e"
             ],
             [
              0.4444444444444444,
              "#bd3786"
             ],
             [
              0.5555555555555556,
              "#d8576b"
             ],
             [
              0.6666666666666666,
              "#ed7953"
             ],
             [
              0.7777777777777778,
              "#fb9f3a"
             ],
             [
              0.8888888888888888,
              "#fdca26"
             ],
             [
              1,
              "#f0f921"
             ]
            ],
            "type": "heatmapgl"
           }
          ],
          "histogram": [
           {
            "marker": {
             "colorbar": {
              "outlinewidth": 0,
              "ticks": ""
             }
            },
            "type": "histogram"
           }
          ],
          "histogram2d": [
           {
            "colorbar": {
             "outlinewidth": 0,
             "ticks": ""
            },
            "colorscale": [
             [
              0,
              "#0d0887"
             ],
             [
              0.1111111111111111,
              "#46039f"
             ],
             [
              0.2222222222222222,
              "#7201a8"
             ],
             [
              0.3333333333333333,
              "#9c179e"
             ],
             [
              0.4444444444444444,
              "#bd3786"
             ],
             [
              0.5555555555555556,
              "#d8576b"
             ],
             [
              0.6666666666666666,
              "#ed7953"
             ],
             [
              0.7777777777777778,
              "#fb9f3a"
             ],
             [
              0.8888888888888888,
              "#fdca26"
             ],
             [
              1,
              "#f0f921"
             ]
            ],
            "type": "histogram2d"
           }
          ],
          "histogram2dcontour": [
           {
            "colorbar": {
             "outlinewidth": 0,
             "ticks": ""
            },
            "colorscale": [
             [
              0,
              "#0d0887"
             ],
             [
              0.1111111111111111,
              "#46039f"
             ],
             [
              0.2222222222222222,
              "#7201a8"
             ],
             [
              0.3333333333333333,
              "#9c179e"
             ],
             [
              0.4444444444444444,
              "#bd3786"
             ],
             [
              0.5555555555555556,
              "#d8576b"
             ],
             [
              0.6666666666666666,
              "#ed7953"
             ],
             [
              0.7777777777777778,
              "#fb9f3a"
             ],
             [
              0.8888888888888888,
              "#fdca26"
             ],
             [
              1,
              "#f0f921"
             ]
            ],
            "type": "histogram2dcontour"
           }
          ],
          "mesh3d": [
           {
            "colorbar": {
             "outlinewidth": 0,
             "ticks": ""
            },
            "type": "mesh3d"
           }
          ],
          "parcoords": [
           {
            "line": {
             "colorbar": {
              "outlinewidth": 0,
              "ticks": ""
             }
            },
            "type": "parcoords"
           }
          ],
          "pie": [
           {
            "automargin": true,
            "type": "pie"
           }
          ],
          "scatter": [
           {
            "marker": {
             "colorbar": {
              "outlinewidth": 0,
              "ticks": ""
             }
            },
            "type": "scatter"
           }
          ],
          "scatter3d": [
           {
            "line": {
             "colorbar": {
              "outlinewidth": 0,
              "ticks": ""
             }
            },
            "marker": {
             "colorbar": {
              "outlinewidth": 0,
              "ticks": ""
             }
            },
            "type": "scatter3d"
           }
          ],
          "scattercarpet": [
           {
            "marker": {
             "colorbar": {
              "outlinewidth": 0,
              "ticks": ""
             }
            },
            "type": "scattercarpet"
           }
          ],
          "scattergeo": [
           {
            "marker": {
             "colorbar": {
              "outlinewidth": 0,
              "ticks": ""
             }
            },
            "type": "scattergeo"
           }
          ],
          "scattergl": [
           {
            "marker": {
             "colorbar": {
              "outlinewidth": 0,
              "ticks": ""
             }
            },
            "type": "scattergl"
           }
          ],
          "scattermapbox": [
           {
            "marker": {
             "colorbar": {
              "outlinewidth": 0,
              "ticks": ""
             }
            },
            "type": "scattermapbox"
           }
          ],
          "scatterpolar": [
           {
            "marker": {
             "colorbar": {
              "outlinewidth": 0,
              "ticks": ""
             }
            },
            "type": "scatterpolar"
           }
          ],
          "scatterpolargl": [
           {
            "marker": {
             "colorbar": {
              "outlinewidth": 0,
              "ticks": ""
             }
            },
            "type": "scatterpolargl"
           }
          ],
          "scatterternary": [
           {
            "marker": {
             "colorbar": {
              "outlinewidth": 0,
              "ticks": ""
             }
            },
            "type": "scatterternary"
           }
          ],
          "surface": [
           {
            "colorbar": {
             "outlinewidth": 0,
             "ticks": ""
            },
            "colorscale": [
             [
              0,
              "#0d0887"
             ],
             [
              0.1111111111111111,
              "#46039f"
             ],
             [
              0.2222222222222222,
              "#7201a8"
             ],
             [
              0.3333333333333333,
              "#9c179e"
             ],
             [
              0.4444444444444444,
              "#bd3786"
             ],
             [
              0.5555555555555556,
              "#d8576b"
             ],
             [
              0.6666666666666666,
              "#ed7953"
             ],
             [
              0.7777777777777778,
              "#fb9f3a"
             ],
             [
              0.8888888888888888,
              "#fdca26"
             ],
             [
              1,
              "#f0f921"
             ]
            ],
            "type": "surface"
           }
          ],
          "table": [
           {
            "cells": {
             "fill": {
              "color": "#EBF0F8"
             },
             "line": {
              "color": "white"
             }
            },
            "header": {
             "fill": {
              "color": "#C8D4E3"
             },
             "line": {
              "color": "white"
             }
            },
            "type": "table"
           }
          ]
         },
         "layout": {
          "annotationdefaults": {
           "arrowcolor": "#2a3f5f",
           "arrowhead": 0,
           "arrowwidth": 1
          },
          "autotypenumbers": "strict",
          "coloraxis": {
           "colorbar": {
            "outlinewidth": 0,
            "ticks": ""
           }
          },
          "colorscale": {
           "diverging": [
            [
             0,
             "#8e0152"
            ],
            [
             0.1,
             "#c51b7d"
            ],
            [
             0.2,
             "#de77ae"
            ],
            [
             0.3,
             "#f1b6da"
            ],
            [
             0.4,
             "#fde0ef"
            ],
            [
             0.5,
             "#f7f7f7"
            ],
            [
             0.6,
             "#e6f5d0"
            ],
            [
             0.7,
             "#b8e186"
            ],
            [
             0.8,
             "#7fbc41"
            ],
            [
             0.9,
             "#4d9221"
            ],
            [
             1,
             "#276419"
            ]
           ],
           "sequential": [
            [
             0,
             "#0d0887"
            ],
            [
             0.1111111111111111,
             "#46039f"
            ],
            [
             0.2222222222222222,
             "#7201a8"
            ],
            [
             0.3333333333333333,
             "#9c179e"
            ],
            [
             0.4444444444444444,
             "#bd3786"
            ],
            [
             0.5555555555555556,
             "#d8576b"
            ],
            [
             0.6666666666666666,
             "#ed7953"
            ],
            [
             0.7777777777777778,
             "#fb9f3a"
            ],
            [
             0.8888888888888888,
             "#fdca26"
            ],
            [
             1,
             "#f0f921"
            ]
           ],
           "sequentialminus": [
            [
             0,
             "#0d0887"
            ],
            [
             0.1111111111111111,
             "#46039f"
            ],
            [
             0.2222222222222222,
             "#7201a8"
            ],
            [
             0.3333333333333333,
             "#9c179e"
            ],
            [
             0.4444444444444444,
             "#bd3786"
            ],
            [
             0.5555555555555556,
             "#d8576b"
            ],
            [
             0.6666666666666666,
             "#ed7953"
            ],
            [
             0.7777777777777778,
             "#fb9f3a"
            ],
            [
             0.8888888888888888,
             "#fdca26"
            ],
            [
             1,
             "#f0f921"
            ]
           ]
          },
          "colorway": [
           "#636efa",
           "#EF553B",
           "#00cc96",
           "#ab63fa",
           "#FFA15A",
           "#19d3f3",
           "#FF6692",
           "#B6E880",
           "#FF97FF",
           "#FECB52"
          ],
          "font": {
           "color": "#2a3f5f"
          },
          "geo": {
           "bgcolor": "white",
           "lakecolor": "white",
           "landcolor": "#E5ECF6",
           "showlakes": true,
           "showland": true,
           "subunitcolor": "white"
          },
          "hoverlabel": {
           "align": "left"
          },
          "hovermode": "closest",
          "mapbox": {
           "style": "light"
          },
          "paper_bgcolor": "white",
          "plot_bgcolor": "#E5ECF6",
          "polar": {
           "angularaxis": {
            "gridcolor": "white",
            "linecolor": "white",
            "ticks": ""
           },
           "bgcolor": "#E5ECF6",
           "radialaxis": {
            "gridcolor": "white",
            "linecolor": "white",
            "ticks": ""
           }
          },
          "scene": {
           "xaxis": {
            "backgroundcolor": "#E5ECF6",
            "gridcolor": "white",
            "gridwidth": 2,
            "linecolor": "white",
            "showbackground": true,
            "ticks": "",
            "zerolinecolor": "white"
           },
           "yaxis": {
            "backgroundcolor": "#E5ECF6",
            "gridcolor": "white",
            "gridwidth": 2,
            "linecolor": "white",
            "showbackground": true,
            "ticks": "",
            "zerolinecolor": "white"
           },
           "zaxis": {
            "backgroundcolor": "#E5ECF6",
            "gridcolor": "white",
            "gridwidth": 2,
            "linecolor": "white",
            "showbackground": true,
            "ticks": "",
            "zerolinecolor": "white"
           }
          },
          "shapedefaults": {
           "line": {
            "color": "#2a3f5f"
           }
          },
          "ternary": {
           "aaxis": {
            "gridcolor": "white",
            "linecolor": "white",
            "ticks": ""
           },
           "baxis": {
            "gridcolor": "white",
            "linecolor": "white",
            "ticks": ""
           },
           "bgcolor": "#E5ECF6",
           "caxis": {
            "gridcolor": "white",
            "linecolor": "white",
            "ticks": ""
           }
          },
          "title": {
           "x": 0.05
          },
          "xaxis": {
           "automargin": true,
           "gridcolor": "white",
           "linecolor": "white",
           "ticks": "",
           "title": {
            "standoff": 15
           },
           "zerolinecolor": "white",
           "zerolinewidth": 2
          },
          "yaxis": {
           "automargin": true,
           "gridcolor": "white",
           "linecolor": "white",
           "ticks": "",
           "title": {
            "standoff": 15
           },
           "zerolinecolor": "white",
           "zerolinewidth": 2
          }
         }
        },
        "title": {
         "text": "Training loss"
        },
        "xaxis": {
         "anchor": "y",
         "domain": [
          0,
          1
         ],
         "title": {
          "text": "epoch"
         }
        },
        "yaxis": {
         "anchor": "x",
         "domain": [
          0,
          1
         ],
         "title": {
          "text": "value"
         }
        }
       }
      }
     },
     "metadata": {}
    }
   ],
   "source": [
    "import plotly.express as px\n",
    "hist = pd.read_csv('vegas-resunet-log-v2.csv')\n",
    "fig = px.line(hist, x='epoch', y=['loss', 'val_loss'])\n",
    "fig.update_layout(\n",
    "    title=\"Training loss\",\n",
    "    yaxis_title=\"value\",\n",
    "    font=dict(\n",
    "    size=16)\n",
    ")\n",
    "fig.show()"
   ]
  },
  {
   "cell_type": "code",
   "execution_count": 4,
   "metadata": {},
   "outputs": [
    {
     "output_type": "display_data",
     "data": {
      "application/vnd.plotly.v1+json": {
       "config": {
        "plotlyServerURL": "https://plot.ly"
       },
       "data": [
        {
         "hovertemplate": "variable=iou_thresholded<br>epoch=%{x}<br>value=%{y}<extra></extra>",
         "legendgroup": "iou_thresholded",
         "line": {
          "color": "#636efa",
          "dash": "solid"
         },
         "mode": "lines",
         "name": "iou_thresholded",
         "orientation": "v",
         "showlegend": true,
         "type": "scatter",
         "x": [
          0,
          1,
          2,
          3,
          4,
          5,
          6,
          7,
          8,
          9,
          10,
          11,
          12,
          13,
          14,
          15,
          16,
          17,
          18,
          19,
          20,
          21,
          22,
          23,
          24,
          25,
          26,
          27
         ],
         "xaxis": "x",
         "y": [
          0.2934667766094208,
          0.36613884568214417,
          0.376077800989151,
          0.3912187516689301,
          0.40139439702034,
          0.4028759300708771,
          0.4058987498283386,
          0.4252387881278992,
          0.4251194298267365,
          0.4320757985115051,
          0.43057548999786377,
          0.4304267466068268,
          0.4364966452121735,
          0.4365885555744171,
          0.43703731894493103,
          0.4449953734874725,
          0.4397072196006775,
          0.4445887804031372,
          0.4418672323226929,
          0.44554072618484497,
          0.4459042251110077,
          0.4449922144412993,
          0.44914084672927856,
          0.4477512836456299,
          0.4481068551540375,
          0.4459528028964996,
          0.449335128068924,
          0.4479988515377045
         ],
         "yaxis": "y"
        },
        {
         "hovertemplate": "variable=val_iou_thresholded<br>epoch=%{x}<br>value=%{y}<extra></extra>",
         "legendgroup": "val_iou_thresholded",
         "line": {
          "color": "#EF553B",
          "dash": "solid"
         },
         "mode": "lines",
         "name": "val_iou_thresholded",
         "orientation": "v",
         "showlegend": true,
         "type": "scatter",
         "x": [
          0,
          1,
          2,
          3,
          4,
          5,
          6,
          7,
          8,
          9,
          10,
          11,
          12,
          13,
          14,
          15,
          16,
          17,
          18,
          19,
          20,
          21,
          22,
          23,
          24,
          25,
          26,
          27
         ],
         "xaxis": "x",
         "y": [
          0.3948752582073212,
          0.3853730261325836,
          0.4822095930576325,
          0.4793271720409393,
          0.4712520241737366,
          0.514927864074707,
          0.5149356126785278,
          0.5335323810577393,
          0.5404725074768066,
          0.5385671854019165,
          0.5334720611572266,
          0.5277166366577148,
          0.5355334281921387,
          0.5347512364387512,
          0.5314296483993529,
          0.5400260090827942,
          0.5454387068748474,
          0.5451988577842712,
          0.5408639907836914,
          0.54688560962677,
          0.5463709235191345,
          0.5415864586830139,
          0.5484656095504761,
          0.5445225834846497,
          0.5441766381263733,
          0.5420803427696228,
          0.5415244698524475,
          0.5441932082176208
         ],
         "yaxis": "y"
        },
        {
         "hovertemplate": "variable=dice_coef<br>epoch=%{x}<br>value=%{y}<extra></extra>",
         "legendgroup": "dice_coef",
         "line": {
          "color": "#00cc96",
          "dash": "solid"
         },
         "mode": "lines",
         "name": "dice_coef",
         "orientation": "v",
         "showlegend": true,
         "type": "scatter",
         "x": [
          0,
          1,
          2,
          3,
          4,
          5,
          6,
          7,
          8,
          9,
          10,
          11,
          12,
          13,
          14,
          15,
          16,
          17,
          18,
          19,
          20,
          21,
          22,
          23,
          24,
          25,
          26,
          27
         ],
         "xaxis": "x",
         "y": [
          0.3034135699272156,
          0.3668952882289887,
          0.37754702568054205,
          0.3946542739868164,
          0.4036302864551544,
          0.40886634588241577,
          0.4127411544322968,
          0.4324493408203125,
          0.4338866472244263,
          0.4424262940883637,
          0.4404543042182921,
          0.44007161259651184,
          0.4464917480945587,
          0.4472573399543762,
          0.4474773108959198,
          0.4571137726306915,
          0.4515901207923889,
          0.4556567072868347,
          0.4548304677009583,
          0.4581378102302551,
          0.4587211608886719,
          0.4565416276454926,
          0.4616745114326477,
          0.4609704315662384,
          0.4606653153896332,
          0.4596517682075501,
          0.4615083038806915,
          0.4615068733692169
         ],
         "yaxis": "y"
        },
        {
         "hovertemplate": "variable=val_dice_coef<br>epoch=%{x}<br>value=%{y}<extra></extra>",
         "legendgroup": "val_dice_coef",
         "line": {
          "color": "#ab63fa",
          "dash": "solid"
         },
         "mode": "lines",
         "name": "val_dice_coef",
         "orientation": "v",
         "showlegend": true,
         "type": "scatter",
         "x": [
          0,
          1,
          2,
          3,
          4,
          5,
          6,
          7,
          8,
          9,
          10,
          11,
          12,
          13,
          14,
          15,
          16,
          17,
          18,
          19,
          20,
          21,
          22,
          23,
          24,
          25,
          26,
          27
         ],
         "xaxis": "x",
         "y": [
          0.34986528754234314,
          0.35259565711021423,
          0.4476624131202698,
          0.4349189400672913,
          0.4740656018257141,
          0.5107532143592834,
          0.4629020690917969,
          0.5165325403213501,
          0.5242300033569336,
          0.5116682052612305,
          0.5139015913009644,
          0.4992174804210663,
          0.5309370756149292,
          0.5192722678184509,
          0.5312694907188416,
          0.5384615063667297,
          0.5342918634414673,
          0.5434583425521851,
          0.5369584560394287,
          0.5458213686943054,
          0.5343310832977295,
          0.5326209664344788,
          0.5452947020530701,
          0.5420117974281311,
          0.5453676581382751,
          0.5408632755279541,
          0.5422306060791016,
          0.5419609546661377
         ],
         "yaxis": "y"
        }
       ],
       "layout": {
        "font": {
         "size": 16
        },
        "legend": {
         "title": {
          "text": "variable"
         },
         "tracegroupgap": 0
        },
        "margin": {
         "t": 60
        },
        "template": {
         "data": {
          "bar": [
           {
            "error_x": {
             "color": "#2a3f5f"
            },
            "error_y": {
             "color": "#2a3f5f"
            },
            "marker": {
             "line": {
              "color": "#E5ECF6",
              "width": 0.5
             }
            },
            "type": "bar"
           }
          ],
          "barpolar": [
           {
            "marker": {
             "line": {
              "color": "#E5ECF6",
              "width": 0.5
             }
            },
            "type": "barpolar"
           }
          ],
          "carpet": [
           {
            "aaxis": {
             "endlinecolor": "#2a3f5f",
             "gridcolor": "white",
             "linecolor": "white",
             "minorgridcolor": "white",
             "startlinecolor": "#2a3f5f"
            },
            "baxis": {
             "endlinecolor": "#2a3f5f",
             "gridcolor": "white",
             "linecolor": "white",
             "minorgridcolor": "white",
             "startlinecolor": "#2a3f5f"
            },
            "type": "carpet"
           }
          ],
          "choropleth": [
           {
            "colorbar": {
             "outlinewidth": 0,
             "ticks": ""
            },
            "type": "choropleth"
           }
          ],
          "contour": [
           {
            "colorbar": {
             "outlinewidth": 0,
             "ticks": ""
            },
            "colorscale": [
             [
              0,
              "#0d0887"
             ],
             [
              0.1111111111111111,
              "#46039f"
             ],
             [
              0.2222222222222222,
              "#7201a8"
             ],
             [
              0.3333333333333333,
              "#9c179e"
             ],
             [
              0.4444444444444444,
              "#bd3786"
             ],
             [
              0.5555555555555556,
              "#d8576b"
             ],
             [
              0.6666666666666666,
              "#ed7953"
             ],
             [
              0.7777777777777778,
              "#fb9f3a"
             ],
             [
              0.8888888888888888,
              "#fdca26"
             ],
             [
              1,
              "#f0f921"
             ]
            ],
            "type": "contour"
           }
          ],
          "contourcarpet": [
           {
            "colorbar": {
             "outlinewidth": 0,
             "ticks": ""
            },
            "type": "contourcarpet"
           }
          ],
          "heatmap": [
           {
            "colorbar": {
             "outlinewidth": 0,
             "ticks": ""
            },
            "colorscale": [
             [
              0,
              "#0d0887"
             ],
             [
              0.1111111111111111,
              "#46039f"
             ],
             [
              0.2222222222222222,
              "#7201a8"
             ],
             [
              0.3333333333333333,
              "#9c179e"
             ],
             [
              0.4444444444444444,
              "#bd3786"
             ],
             [
              0.5555555555555556,
              "#d8576b"
             ],
             [
              0.6666666666666666,
              "#ed7953"
             ],
             [
              0.7777777777777778,
              "#fb9f3a"
             ],
             [
              0.8888888888888888,
              "#fdca26"
             ],
             [
              1,
              "#f0f921"
             ]
            ],
            "type": "heatmap"
           }
          ],
          "heatmapgl": [
           {
            "colorbar": {
             "outlinewidth": 0,
             "ticks": ""
            },
            "colorscale": [
             [
              0,
              "#0d0887"
             ],
             [
              0.1111111111111111,
              "#46039f"
             ],
             [
              0.2222222222222222,
              "#7201a8"
             ],
             [
              0.3333333333333333,
              "#9c179e"
             ],
             [
              0.4444444444444444,
              "#bd3786"
             ],
             [
              0.5555555555555556,
              "#d8576b"
             ],
             [
              0.6666666666666666,
              "#ed7953"
             ],
             [
              0.7777777777777778,
              "#fb9f3a"
             ],
             [
              0.8888888888888888,
              "#fdca26"
             ],
             [
              1,
              "#f0f921"
             ]
            ],
            "type": "heatmapgl"
           }
          ],
          "histogram": [
           {
            "marker": {
             "colorbar": {
              "outlinewidth": 0,
              "ticks": ""
             }
            },
            "type": "histogram"
           }
          ],
          "histogram2d": [
           {
            "colorbar": {
             "outlinewidth": 0,
             "ticks": ""
            },
            "colorscale": [
             [
              0,
              "#0d0887"
             ],
             [
              0.1111111111111111,
              "#46039f"
             ],
             [
              0.2222222222222222,
              "#7201a8"
             ],
             [
              0.3333333333333333,
              "#9c179e"
             ],
             [
              0.4444444444444444,
              "#bd3786"
             ],
             [
              0.5555555555555556,
              "#d8576b"
             ],
             [
              0.6666666666666666,
              "#ed7953"
             ],
             [
              0.7777777777777778,
              "#fb9f3a"
             ],
             [
              0.8888888888888888,
              "#fdca26"
             ],
             [
              1,
              "#f0f921"
             ]
            ],
            "type": "histogram2d"
           }
          ],
          "histogram2dcontour": [
           {
            "colorbar": {
             "outlinewidth": 0,
             "ticks": ""
            },
            "colorscale": [
             [
              0,
              "#0d0887"
             ],
             [
              0.1111111111111111,
              "#46039f"
             ],
             [
              0.2222222222222222,
              "#7201a8"
             ],
             [
              0.3333333333333333,
              "#9c179e"
             ],
             [
              0.4444444444444444,
              "#bd3786"
             ],
             [
              0.5555555555555556,
              "#d8576b"
             ],
             [
              0.6666666666666666,
              "#ed7953"
             ],
             [
              0.7777777777777778,
              "#fb9f3a"
             ],
             [
              0.8888888888888888,
              "#fdca26"
             ],
             [
              1,
              "#f0f921"
             ]
            ],
            "type": "histogram2dcontour"
           }
          ],
          "mesh3d": [
           {
            "colorbar": {
             "outlinewidth": 0,
             "ticks": ""
            },
            "type": "mesh3d"
           }
          ],
          "parcoords": [
           {
            "line": {
             "colorbar": {
              "outlinewidth": 0,
              "ticks": ""
             }
            },
            "type": "parcoords"
           }
          ],
          "pie": [
           {
            "automargin": true,
            "type": "pie"
           }
          ],
          "scatter": [
           {
            "marker": {
             "colorbar": {
              "outlinewidth": 0,
              "ticks": ""
             }
            },
            "type": "scatter"
           }
          ],
          "scatter3d": [
           {
            "line": {
             "colorbar": {
              "outlinewidth": 0,
              "ticks": ""
             }
            },
            "marker": {
             "colorbar": {
              "outlinewidth": 0,
              "ticks": ""
             }
            },
            "type": "scatter3d"
           }
          ],
          "scattercarpet": [
           {
            "marker": {
             "colorbar": {
              "outlinewidth": 0,
              "ticks": ""
             }
            },
            "type": "scattercarpet"
           }
          ],
          "scattergeo": [
           {
            "marker": {
             "colorbar": {
              "outlinewidth": 0,
              "ticks": ""
             }
            },
            "type": "scattergeo"
           }
          ],
          "scattergl": [
           {
            "marker": {
             "colorbar": {
              "outlinewidth": 0,
              "ticks": ""
             }
            },
            "type": "scattergl"
           }
          ],
          "scattermapbox": [
           {
            "marker": {
             "colorbar": {
              "outlinewidth": 0,
              "ticks": ""
             }
            },
            "type": "scattermapbox"
           }
          ],
          "scatterpolar": [
           {
            "marker": {
             "colorbar": {
              "outlinewidth": 0,
              "ticks": ""
             }
            },
            "type": "scatterpolar"
           }
          ],
          "scatterpolargl": [
           {
            "marker": {
             "colorbar": {
              "outlinewidth": 0,
              "ticks": ""
             }
            },
            "type": "scatterpolargl"
           }
          ],
          "scatterternary": [
           {
            "marker": {
             "colorbar": {
              "outlinewidth": 0,
              "ticks": ""
             }
            },
            "type": "scatterternary"
           }
          ],
          "surface": [
           {
            "colorbar": {
             "outlinewidth": 0,
             "ticks": ""
            },
            "colorscale": [
             [
              0,
              "#0d0887"
             ],
             [
              0.1111111111111111,
              "#46039f"
             ],
             [
              0.2222222222222222,
              "#7201a8"
             ],
             [
              0.3333333333333333,
              "#9c179e"
             ],
             [
              0.4444444444444444,
              "#bd3786"
             ],
             [
              0.5555555555555556,
              "#d8576b"
             ],
             [
              0.6666666666666666,
              "#ed7953"
             ],
             [
              0.7777777777777778,
              "#fb9f3a"
             ],
             [
              0.8888888888888888,
              "#fdca26"
             ],
             [
              1,
              "#f0f921"
             ]
            ],
            "type": "surface"
           }
          ],
          "table": [
           {
            "cells": {
             "fill": {
              "color": "#EBF0F8"
             },
             "line": {
              "color": "white"
             }
            },
            "header": {
             "fill": {
              "color": "#C8D4E3"
             },
             "line": {
              "color": "white"
             }
            },
            "type": "table"
           }
          ]
         },
         "layout": {
          "annotationdefaults": {
           "arrowcolor": "#2a3f5f",
           "arrowhead": 0,
           "arrowwidth": 1
          },
          "autotypenumbers": "strict",
          "coloraxis": {
           "colorbar": {
            "outlinewidth": 0,
            "ticks": ""
           }
          },
          "colorscale": {
           "diverging": [
            [
             0,
             "#8e0152"
            ],
            [
             0.1,
             "#c51b7d"
            ],
            [
             0.2,
             "#de77ae"
            ],
            [
             0.3,
             "#f1b6da"
            ],
            [
             0.4,
             "#fde0ef"
            ],
            [
             0.5,
             "#f7f7f7"
            ],
            [
             0.6,
             "#e6f5d0"
            ],
            [
             0.7,
             "#b8e186"
            ],
            [
             0.8,
             "#7fbc41"
            ],
            [
             0.9,
             "#4d9221"
            ],
            [
             1,
             "#276419"
            ]
           ],
           "sequential": [
            [
             0,
             "#0d0887"
            ],
            [
             0.1111111111111111,
             "#46039f"
            ],
            [
             0.2222222222222222,
             "#7201a8"
            ],
            [
             0.3333333333333333,
             "#9c179e"
            ],
            [
             0.4444444444444444,
             "#bd3786"
            ],
            [
             0.5555555555555556,
             "#d8576b"
            ],
            [
             0.6666666666666666,
             "#ed7953"
            ],
            [
             0.7777777777777778,
             "#fb9f3a"
            ],
            [
             0.8888888888888888,
             "#fdca26"
            ],
            [
             1,
             "#f0f921"
            ]
           ],
           "sequentialminus": [
            [
             0,
             "#0d0887"
            ],
            [
             0.1111111111111111,
             "#46039f"
            ],
            [
             0.2222222222222222,
             "#7201a8"
            ],
            [
             0.3333333333333333,
             "#9c179e"
            ],
            [
             0.4444444444444444,
             "#bd3786"
            ],
            [
             0.5555555555555556,
             "#d8576b"
            ],
            [
             0.6666666666666666,
             "#ed7953"
            ],
            [
             0.7777777777777778,
             "#fb9f3a"
            ],
            [
             0.8888888888888888,
             "#fdca26"
            ],
            [
             1,
             "#f0f921"
            ]
           ]
          },
          "colorway": [
           "#636efa",
           "#EF553B",
           "#00cc96",
           "#ab63fa",
           "#FFA15A",
           "#19d3f3",
           "#FF6692",
           "#B6E880",
           "#FF97FF",
           "#FECB52"
          ],
          "font": {
           "color": "#2a3f5f"
          },
          "geo": {
           "bgcolor": "white",
           "lakecolor": "white",
           "landcolor": "#E5ECF6",
           "showlakes": true,
           "showland": true,
           "subunitcolor": "white"
          },
          "hoverlabel": {
           "align": "left"
          },
          "hovermode": "closest",
          "mapbox": {
           "style": "light"
          },
          "paper_bgcolor": "white",
          "plot_bgcolor": "#E5ECF6",
          "polar": {
           "angularaxis": {
            "gridcolor": "white",
            "linecolor": "white",
            "ticks": ""
           },
           "bgcolor": "#E5ECF6",
           "radialaxis": {
            "gridcolor": "white",
            "linecolor": "white",
            "ticks": ""
           }
          },
          "scene": {
           "xaxis": {
            "backgroundcolor": "#E5ECF6",
            "gridcolor": "white",
            "gridwidth": 2,
            "linecolor": "white",
            "showbackground": true,
            "ticks": "",
            "zerolinecolor": "white"
           },
           "yaxis": {
            "backgroundcolor": "#E5ECF6",
            "gridcolor": "white",
            "gridwidth": 2,
            "linecolor": "white",
            "showbackground": true,
            "ticks": "",
            "zerolinecolor": "white"
           },
           "zaxis": {
            "backgroundcolor": "#E5ECF6",
            "gridcolor": "white",
            "gridwidth": 2,
            "linecolor": "white",
            "showbackground": true,
            "ticks": "",
            "zerolinecolor": "white"
           }
          },
          "shapedefaults": {
           "line": {
            "color": "#2a3f5f"
           }
          },
          "ternary": {
           "aaxis": {
            "gridcolor": "white",
            "linecolor": "white",
            "ticks": ""
           },
           "baxis": {
            "gridcolor": "white",
            "linecolor": "white",
            "ticks": ""
           },
           "bgcolor": "#E5ECF6",
           "caxis": {
            "gridcolor": "white",
            "linecolor": "white",
            "ticks": ""
           }
          },
          "title": {
           "x": 0.05
          },
          "xaxis": {
           "automargin": true,
           "gridcolor": "white",
           "linecolor": "white",
           "ticks": "",
           "title": {
            "standoff": 15
           },
           "zerolinecolor": "white",
           "zerolinewidth": 2
          },
          "yaxis": {
           "automargin": true,
           "gridcolor": "white",
           "linecolor": "white",
           "ticks": "",
           "title": {
            "standoff": 15
           },
           "zerolinecolor": "white",
           "zerolinewidth": 2
          }
         }
        },
        "title": {
         "text": "Training accuracy"
        },
        "xaxis": {
         "anchor": "y",
         "domain": [
          0,
          1
         ],
         "title": {
          "text": "epoch"
         }
        },
        "yaxis": {
         "anchor": "x",
         "domain": [
          0,
          1
         ],
         "title": {
          "text": "value"
         }
        }
       }
      }
     },
     "metadata": {}
    }
   ],
   "source": [
    "hist = pd.read_csv('vegas-resunet-log-v2.csv')\n",
    "fig = px.line(hist, x='epoch', y=['iou_thresholded', 'val_iou_thresholded', 'dice_coef', 'val_dice_coef'])\n",
    "fig.update_layout(\n",
    "    title=\"Training accuracy\",\n",
    "    yaxis_title=\"value\",\n",
    "    font=dict(\n",
    "    size=16)\n",
    ")\n",
    "fig.show()"
   ]
  },
  {
   "cell_type": "code",
   "execution_count": null,
   "metadata": {},
   "outputs": [],
   "source": []
  }
 ],
 "metadata": {
  "accelerator": "GPU",
  "colab": {
   "name": "segmentation-v2.ipynb",
   "provenance": []
  },
  "kernelspec": {
   "name": "python3",
   "display_name": "Python 3.8.3 64-bit ('base': conda)",
   "metadata": {
    "interpreter": {
     "hash": "ec3c69ea3d92836d3fb29ba52d6a27db7727d2d04c164eaa36bda859d91738d3"
    }
   }
  },
  "language_info": {
   "codemirror_mode": {
    "name": "ipython",
    "version": 3
   },
   "file_extension": ".py",
   "mimetype": "text/x-python",
   "name": "python",
   "nbconvert_exporter": "python",
   "pygments_lexer": "ipython3",
   "version": "3.8.3"
  }
 },
 "nbformat": 4,
 "nbformat_minor": 4
}
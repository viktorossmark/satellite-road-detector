{
 "cells": [
  {
   "cell_type": "code",
   "execution_count": 2,
   "metadata": {},
   "outputs": [],
   "source": [
    "import sknw\n",
    "import networkx as nx\n",
    "import pandas as pd\n",
    "import numpy as np\n",
    "import os\n",
    "import sys\n",
    "import cv2\n",
    "import skimage.io\n",
    "import random\n",
    "import matplotlib.pyplot as plt\n",
    "import skimage.morphology\n",
    "from skimage.morphology import skeletonize, remove_small_objects, remove_small_holes, medial_axis\n",
    "from keras.metrics import MeanIoU"
   ]
  },
  {
   "source": [
    "## Mean IoU of post-processed predicted masks\n",
    "Here we do all of the post-processing steps as described in the image2graph notebook. After that we evaluate the mean IoU."
   ],
   "cell_type": "markdown",
   "metadata": {}
  },
  {
   "cell_type": "code",
   "execution_count": 13,
   "metadata": {},
   "outputs": [
    {
     "name": "stdout",
     "output_type": "stream",
     "text": [
      "mean IOU of post-processed masks\n",
      "0.40224794380645024\n"
     ]
    }
   ],
   "source": [
    "pred_dir = '/path/to/predictions'\n",
    "ious = []\n",
    "m = MeanIoU(num_classes=2)\n",
    "for i in range(len(os.listdir(pred_dir))):\n",
    "    pred_path = os.path.join(pred_dir, '{}_pred.png'.format(str(i)))\n",
    "    gt_path = os.path.join(pred_dir, '{}_ground-truth.png'.format(str(i)))\n",
    "\n",
    "    pred = cv2.imread(pred_path,1)\n",
    "    gt = cv2.imread(gt_path,1)\n",
    "    if np.mean(gt[:,:,-1])==0:\n",
    "        continue\n",
    "\n",
    "    gt = cv2.resize(gt, (512,512), interpolation=cv2.INTER_AREA)\n",
    "    kernel_close = 12\n",
    "    kernel_open = 3\n",
    "    kernel_blur = 3\n",
    "    kernel_close = np.ones((kernel_close,kernel_close), np.uint8)\n",
    "    kernel_open = np.ones((kernel_open, kernel_open), np.uint8)\n",
    "    glob_thresh=80\n",
    "    blur = cv2.medianBlur(pred, kernel_blur)\n",
    "    glob_thresh_arr = cv2.threshold(blur, glob_thresh, 255, cv2.THRESH_BINARY)[1]\n",
    "    glob_thresh_arr_smooth = cv2.medianBlur(glob_thresh_arr, kernel_blur)\n",
    "    mask_thresh = glob_thresh_arr_smooth\n",
    "    closing = cv2.morphologyEx(mask_thresh, cv2.MORPH_CLOSE, kernel_close)\n",
    "    opening = cv2.morphologyEx(closing, cv2.MORPH_OPEN, kernel_open)\n",
    "    y_true = gt[:,:,-1]/255\n",
    "    y_pred = opening[:,:,-1]/255\n",
    "    m.reset_states()\n",
    "    m.update_state(y_true,y_pred)\n",
    "\n",
    "arr = np.array(ious)\n",
    "print('mean IOU of post-processed masks')\n",
    "print(np.mean(arr))"
   ]
  },
  {
   "source": [
    "## OTBS metric\n",
    "Below we evaluate how well we can find optimal paths in our predicted graphs. See short description of this metric in the readme. We also calculate the mean road length in the ground truth graphs and compare it with the mean road length in the predicted graphs. "
   ],
   "cell_type": "markdown",
   "metadata": {}
  },
  {
   "cell_type": "code",
   "execution_count": null,
   "metadata": {},
   "outputs": [],
   "source": [
    "def create_graph(mask_dir, grt=False):\n",
    "    pred = cv2.imread(mask_dir,1)\n",
    "    if grt:\n",
    "        pred = cv2.resize(pred, (512,512), interpolation=cv2.INTER_AREA)\n",
    "    kernel_close = 12\n",
    "    kernel_open = 3\n",
    "    kernel_blur = 3\n",
    "    kernel_close = np.ones((kernel_close,kernel_close), np.uint8)\n",
    "    kernel_open = np.ones((kernel_open, kernel_open), np.uint8)\n",
    "    glob_thresh=80\n",
    "\n",
    "    blur = cv2.medianBlur(pred, kernel_blur)\n",
    "    glob_thresh_arr = cv2.threshold(blur, glob_thresh, 255, cv2.THRESH_BINARY)[1]\n",
    "    glob_thresh_arr_smooth = cv2.medianBlur(glob_thresh_arr, kernel_blur)\n",
    "    mask_thresh = glob_thresh_arr_smooth\n",
    "    closing = cv2.morphologyEx(mask_thresh, cv2.MORPH_CLOSE, kernel_close)\n",
    "    opening = cv2.morphologyEx(closing, cv2.MORPH_OPEN, kernel_open)\n",
    "    medial_int = medial_axis(opening[:,:,-1]).astype(np.uint8)\n",
    "\n",
    "    graph = sknw.build_sknw(medial_int)\n",
    "    for component in list(nx.connected_components(graph)):\n",
    "        if len(component)<3:\n",
    "            for node in component:\n",
    "                graph.remove_node(node)\n",
    "    nn = list(graph)\n",
    "    vert = len(graph)\n",
    "    road = graph.size(weight='weight')\n",
    "    try:\n",
    "        length, path = nx.single_source_dijkstra(graph, nn[0], nn[-1], weight='weight')\n",
    "        return length, vert, road\n",
    "    except:\n",
    "        return None, vert, road\n"
   ]
  },
  {
   "cell_type": "code",
   "execution_count": null,
   "metadata": {},
   "outputs": [],
   "source": [
    "pred_dir = '/path/to/predictions'\n",
    "proposed = []\n",
    "truths = []\n",
    "pverts = []\n",
    "proads = []\n",
    "tverts = []\n",
    "troads = []\n",
    "for i in range(len(os.listdir(pred_dir))):\n",
    "    pred_path = os.path.join(pred_dir, '{}_pred.png'.format(str(i)))\n",
    "    gt_path = os.path.join(pred_dir, '{}_ground-truth.png'.format(str(i)))\n",
    "    prop, pvert, proad = create_graph(pred_path)\n",
    "    truth, tvert, troad  = create_graph(gt_path, grt=True)\n",
    "    if truth:\n",
    "        if prop:\n",
    "            proposed.append(prop)\n",
    "            truths.append(truth)\n",
    "        else:\n",
    "            proposed.append(2)\n",
    "            truths.append(1)\n",
    "    pverts.append(pvert)\n",
    "    proads.append(proad)\n",
    "    tverts.append(tvert)\n",
    "    troads.append(troad)\n",
    "\n",
    "arr1 = np.array(proposed)\n",
    "arr2 = np.array(truths)\n",
    "otbs = np.mean(1-(np.abs((arr1-arr2))/arr2))\n",
    "arr3 = np.array(pverts)\n",
    "arr4 = np.array(proads)\n",
    "arr5 = np.array(tverts)\n",
    "arr6 = np.array(troads)\n",
    "print('OTBS-score:')\n",
    "print(np.mean(otbs))\n",
    "print('Mean ground-truth road length (sum of edges)')\n",
    "print(np.mean(arr6))\n",
    "print('Mean predicted road length (sum of edges)')\n",
    "print(np.mean(arr4))"
   ]
  }
 ],
 "metadata": {
  "kernelspec": {
   "display_name": "viktorEnv",
   "language": "python",
   "name": "viktorenv"
  },
  "language_info": {
   "codemirror_mode": {
    "name": "ipython",
    "version": 3
   },
   "file_extension": ".py",
   "mimetype": "text/x-python",
   "name": "python",
   "nbconvert_exporter": "python",
   "pygments_lexer": "ipython3",
   "version": "3.8.3"
  }
 },
 "nbformat": 4,
 "nbformat_minor": 2
}